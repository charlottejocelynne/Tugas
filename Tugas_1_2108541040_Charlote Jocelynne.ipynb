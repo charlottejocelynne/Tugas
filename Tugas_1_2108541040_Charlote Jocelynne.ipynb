{
 "cells": [
  {
   "cell_type": "code",
   "execution_count": null,
   "id": "771efc25",
   "metadata": {},
   "outputs": [],
   "source": [
    "#5.1 Print"
   ]
  },
  {
   "cell_type": "code",
   "execution_count": null,
   "id": "7f207869",
   "metadata": {},
   "outputs": [],
   "source": [
    "print ('Ini Kelas Algoritma!')"
   ]
  },
  {
   "cell_type": "code",
   "execution_count": null,
   "id": "a0826d7f",
   "metadata": {},
   "outputs": [],
   "source": [
    "print (\"Ini Kelas Algoritma\")"
   ]
  },
  {
   "cell_type": "code",
   "execution_count": null,
   "id": "7d8c2bd3",
   "metadata": {},
   "outputs": [],
   "source": [
    "print (\"You're not supposed to be here\")"
   ]
  },
  {
   "cell_type": "code",
   "execution_count": null,
   "id": "f9e334a3",
   "metadata": {
    "scrolled": true
   },
   "outputs": [],
   "source": [
    "print ('You're not supposed to be here')"
   ]
  },
  {
   "cell_type": "code",
   "execution_count": null,
   "id": "92bec497",
   "metadata": {},
   "outputs": [],
   "source": [
    "print ('Bung Tomo berkata \"Merdeka atau mati!\"')"
   ]
  },
  {
   "cell_type": "code",
   "execution_count": null,
   "id": "8ca163c8",
   "metadata": {
    "scrolled": true
   },
   "outputs": [],
   "source": [
    "print (\"Bung Tomo berkata \"Merdeka atau mati!\"\")"
   ]
  },
  {
   "cell_type": "code",
   "execution_count": null,
   "id": "ea7d6884",
   "metadata": {},
   "outputs": [],
   "source": [
    "siswa = 30\n",
    "uang_jajan = 10000\n",
    "print(siswa)\n",
    "print(uang_jajan)\n",
    "\n",
    "print(siswa*uang_jajan)"
   ]
  },
  {
   "cell_type": "code",
   "execution_count": null,
   "id": "5c32583d",
   "metadata": {},
   "outputs": [],
   "source": [
    "nama_depan = 'Charlotte'\n",
    "nama_tengah = ' '\n",
    "nama_belakang = \"Jocelynne\"\n",
    "print(nama_depan + nama_tengah + nama_belakang)"
   ]
  },
  {
   "cell_type": "code",
   "execution_count": null,
   "id": "646b3cda",
   "metadata": {},
   "outputs": [],
   "source": [
    "#5.2 Input"
   ]
  },
  {
   "cell_type": "code",
   "execution_count": null,
   "id": "e71c3113",
   "metadata": {},
   "outputs": [],
   "source": [
    "nama = input (\"Siapa nama kamu? \")\n",
    "kegiatan = input('Kamu lagi apa' + \" \" + nama +\"? \")\n",
    "print(\"Semangat \"+ kegiatan + \"nya yaaaaa, \" + nama + \"!\")"
   ]
  },
  {
   "cell_type": "code",
   "execution_count": null,
   "id": "06cb8353",
   "metadata": {},
   "outputs": [],
   "source": [
    "uang_cash = input(\"Berapakah jumlah uang cash kamu? \")\n",
    "saldo_atm = input (\"Berapakah jumlah saldo atm kamu? \")\n",
    "print(\"Jumlah semua uang kamu adalah Rp \" + uang_cash + saldo_atm)    "
   ]
  },
  {
   "cell_type": "code",
   "execution_count": null,
   "id": "bf28c04e",
   "metadata": {},
   "outputs": [],
   "source": [
    "uang_cash = input(\"Berapakah jumlah uang cash kamu? \")\n",
    "saldo_atm = input (\"Berapakah jumlah saldo atm kamu? \")\n",
    "jumlah_uang = int(uang_cash) +int(saldo_atm)\n",
    "print(\"Jumlah semua uang kamu adalah Rp \" + str (jumlah_uang))   \n"
   ]
  },
  {
   "cell_type": "code",
   "execution_count": null,
   "id": "931ae5f9",
   "metadata": {},
   "outputs": [],
   "source": [
    "type(uang_cash)"
   ]
  },
  {
   "cell_type": "code",
   "execution_count": null,
   "id": "da8549a3",
   "metadata": {},
   "outputs": [],
   "source": [
    "type(saldo_atm)"
   ]
  },
  {
   "cell_type": "code",
   "execution_count": null,
   "id": "979ede49",
   "metadata": {},
   "outputs": [],
   "source": [
    "type(jumlah_uang)"
   ]
  },
  {
   "cell_type": "code",
   "execution_count": null,
   "id": "ebd4fb4c",
   "metadata": {},
   "outputs": [],
   "source": [
    "beras_andi = input(\"Berapa berat beras andi? \")\n",
    "beras_budi = input (\"Berapa berat beras budi? \")\n",
    "jumlah = float(beras_andi) + float(beras_budi)\n",
    "print (\"Jumlah beras andi dan budi \" + str(jumlah))"
   ]
  },
  {
   "cell_type": "code",
   "execution_count": null,
   "id": "cc98d7e6",
   "metadata": {},
   "outputs": [],
   "source": [
    "#5.4 Formatted string"
   ]
  },
  {
   "cell_type": "code",
   "execution_count": null,
   "id": "904cac28",
   "metadata": {},
   "outputs": [],
   "source": [
    "nama = \"Charlotte\"\n",
    "universitas = 'Universitas Udayana'\n",
    "semester = '2'\n",
    "print(nama + ' adalah seorang mahasiswa semester ' + semester + ' di ' + universitas + \".\")"
   ]
  },
  {
   "cell_type": "code",
   "execution_count": null,
   "id": "2fb64317",
   "metadata": {
    "scrolled": true
   },
   "outputs": [],
   "source": [
    "print (f'{nama} adalah seorang mahasiswa semester {semester} di {universitas}.')"
   ]
  },
  {
   "cell_type": "code",
   "execution_count": null,
   "id": "3d07e2df",
   "metadata": {},
   "outputs": [],
   "source": [
    "print (f\"{nama} adalah seorang mahasiswa semester {semester} di {universitas}.\")"
   ]
  },
  {
   "cell_type": "code",
   "execution_count": null,
   "id": "76c4fae9",
   "metadata": {},
   "outputs": [],
   "source": [
    "#5.5 String Index"
   ]
  },
  {
   "cell_type": "code",
   "execution_count": null,
   "id": "03a27bd3",
   "metadata": {},
   "outputs": [],
   "source": [
    "nama = 'nama saya Charlotte'"
   ]
  },
  {
   "cell_type": "code",
   "execution_count": null,
   "id": "2855db08",
   "metadata": {},
   "outputs": [],
   "source": [
    "print(nama[0:5])"
   ]
  },
  {
   "cell_type": "code",
   "execution_count": null,
   "id": "c2d74107",
   "metadata": {},
   "outputs": [],
   "source": [
    "print(nama[0:-8])"
   ]
  },
  {
   "cell_type": "code",
   "execution_count": null,
   "id": "f57ad5bf",
   "metadata": {},
   "outputs": [],
   "source": [
    "print(nama[7:-1])"
   ]
  },
  {
   "cell_type": "code",
   "execution_count": null,
   "id": "681713f3",
   "metadata": {},
   "outputs": [],
   "source": [
    "print(nama[2:-1:3])"
   ]
  },
  {
   "cell_type": "code",
   "execution_count": null,
   "id": "3f6710a3",
   "metadata": {},
   "outputs": [],
   "source": [
    "print(nama[:-3])"
   ]
  },
  {
   "cell_type": "code",
   "execution_count": null,
   "id": "efee83e0",
   "metadata": {},
   "outputs": [],
   "source": [
    "print(nama[1:])"
   ]
  },
  {
   "cell_type": "code",
   "execution_count": null,
   "id": "5c8e2463",
   "metadata": {},
   "outputs": [],
   "source": [
    "print(nama[:])"
   ]
  },
  {
   "cell_type": "code",
   "execution_count": null,
   "id": "f85d3f69",
   "metadata": {},
   "outputs": [],
   "source": [
    "#5.6 String Methods"
   ]
  },
  {
   "cell_type": "code",
   "execution_count": null,
   "id": "f52da00f",
   "metadata": {},
   "outputs": [],
   "source": [
    "judul = 'Jakarta kota metropolitan'"
   ]
  },
  {
   "cell_type": "code",
   "execution_count": null,
   "id": "e117dae8",
   "metadata": {},
   "outputs": [],
   "source": [
    "print(len(judul))"
   ]
  },
  {
   "cell_type": "code",
   "execution_count": null,
   "id": "c275cfbc",
   "metadata": {},
   "outputs": [],
   "source": [
    "judul.upper()"
   ]
  },
  {
   "cell_type": "code",
   "execution_count": null,
   "id": "5b8cd088",
   "metadata": {},
   "outputs": [],
   "source": [
    "judul.lower()"
   ]
  },
  {
   "cell_type": "code",
   "execution_count": null,
   "id": "a862848d",
   "metadata": {},
   "outputs": [],
   "source": [
    "judul.find(\"kota\")"
   ]
  },
  {
   "cell_type": "code",
   "execution_count": null,
   "id": "579d0d8f",
   "metadata": {},
   "outputs": [],
   "source": [
    "judul.find('metropolitan')"
   ]
  },
  {
   "cell_type": "code",
   "execution_count": null,
   "id": "11c54b3c",
   "metadata": {},
   "outputs": [],
   "source": [
    "judul.replace('metropolitan', 'ramai')"
   ]
  },
  {
   "cell_type": "code",
   "execution_count": null,
   "id": "2a7a08ad",
   "metadata": {},
   "outputs": [],
   "source": [
    "judul.replace('jakarta', 'Papua')"
   ]
  },
  {
   "cell_type": "code",
   "execution_count": null,
   "id": "d70a80b4",
   "metadata": {},
   "outputs": [],
   "source": [
    "print('Jakarta' in judul)"
   ]
  },
  {
   "cell_type": "code",
   "execution_count": null,
   "id": "ecde022f",
   "metadata": {},
   "outputs": [],
   "source": [
    "print ('jakarta' in judul)"
   ]
  },
  {
   "cell_type": "code",
   "execution_count": null,
   "id": "92df1e08",
   "metadata": {},
   "outputs": [],
   "source": [
    "#5.7 Operasi Matematika di Python"
   ]
  },
  {
   "cell_type": "code",
   "execution_count": null,
   "id": "7a3dec57",
   "metadata": {},
   "outputs": [],
   "source": [
    "print(5+8)\n",
    "print(5-8)\n",
    "print(5*8)\n",
    "print(5/8)\n",
    "print(5%8)\n",
    "print(5**8)\n",
    "x=8\n",
    "x+=5\n",
    "print(x)\n",
    "x-=5\n",
    "print(x)\n",
    "x*=5\n",
    "print(x)"
   ]
  },
  {
   "cell_type": "code",
   "execution_count": null,
   "id": "26bcc13d",
   "metadata": {},
   "outputs": [],
   "source": [
    "#5.8 Operator Perbandingan di Python"
   ]
  },
  {
   "cell_type": "code",
   "execution_count": null,
   "id": "f6f33e6e",
   "metadata": {},
   "outputs": [],
   "source": [
    "x = 8>4\n",
    "print(x)\n",
    "x = 4<8\n",
    "print(x)\n",
    "x = 8 >= 4\n",
    "print(x)\n",
    "x = 4 <= 8\n",
    "print(x)\n",
    "x = 4 == 4\n",
    "print(x)\n",
    "x = 4 != 8\n",
    "print(x)"
   ]
  },
  {
   "cell_type": "code",
   "execution_count": null,
   "id": "f0a9a364",
   "metadata": {},
   "outputs": [],
   "source": [
    "x = 4>8\n",
    "print(x)\n",
    "x = 8<4\n",
    "print(x)\n",
    "x = 4>= 8\n",
    "print(x)\n",
    "x = 8 <= 4\n",
    "print(x)\n",
    "x = 4 == 8\n",
    "print(x)\n",
    "x = 4 != 4\n",
    "print(x)"
   ]
  },
  {
   "cell_type": "code",
   "execution_count": null,
   "id": "330428d5",
   "metadata": {},
   "outputs": [],
   "source": [
    "#5.9 Operator Logika di Python"
   ]
  },
  {
   "cell_type": "code",
   "execution_count": null,
   "id": "769cd788",
   "metadata": {},
   "outputs": [],
   "source": [
    "kelereng_budi = 7\n",
    "kelereng_andi = 6\n",
    "print(kelereng_budi > 3 and kelereng_andi < 10)"
   ]
  },
  {
   "cell_type": "code",
   "execution_count": null,
   "id": "34f5106f",
   "metadata": {},
   "outputs": [],
   "source": [
    "print(kelereng_budi < 3 or kelereng_andi < 10)"
   ]
  },
  {
   "cell_type": "code",
   "execution_count": null,
   "id": "5e2905dd",
   "metadata": {},
   "outputs": [],
   "source": [
    "print(kelereng_andi < 3 or kelereng_andi > 10)"
   ]
  },
  {
   "cell_type": "code",
   "execution_count": null,
   "id": "ca629a7b",
   "metadata": {},
   "outputs": [],
   "source": [
    "print(not (kelereng_andi < 3 or kelereng_andi > 10 ))"
   ]
  },
  {
   "cell_type": "code",
   "execution_count": null,
   "id": "4db0aed3",
   "metadata": {},
   "outputs": [],
   "source": [
    "#5.10 Operator if di Python"
   ]
  },
  {
   "cell_type": "code",
   "execution_count": null,
   "id": "6fbc91b6",
   "metadata": {},
   "outputs": [],
   "source": [
    "nilai = float(input(\"Nilai anda adalah \"))\n",
    "if nilai >= 80:\n",
    "    print (\"Anda Mendapatkan nilai A\")\n",
    "    print (\"Selamat! Nilai anda bagus\")\n",
    "if nilai < 80 and nilai >= 70:\n",
    "    print (\"Anda mendapatkan nilai B\")\n",
    "    print (\"Jangan lupa belajar lagi ya!\")\n",
    "if nilai >= 60 and nilai < 70:\n",
    "    print(\"Anda mendapatkan nilai C\")\n",
    "    print(\"Next time harus lebih bagus\")\n",
    "if nilai >= 50 and nilai < 60:\n",
    "    print (\"Anda mendapatkan nilai D\")\n",
    "    print (\"Maaf, anda harus mengulang tahun depan\")\n",
    "if nilai < 50:\n",
    "    print (\"Anda mendapatkan nilai E\")\n",
    "    print (\"Mohon maaf anda harus mengulang tahun depan\")"
   ]
  },
  {
   "cell_type": "code",
   "execution_count": null,
   "id": "dd748d51",
   "metadata": {},
   "outputs": [],
   "source": [
    "nilai = float(input(\"Nilai anda adalah \"))\n",
    "if nilai >= 80:\n",
    "    print(\"Anda mendapatkan nilai A\")\n",
    "    print (\"Selamat! Nilai anda bagus\")\n",
    "elif nilai >= 70:\n",
    "    print (\"Anda mendapatkan nilai B\")\n",
    "    print (\"Jangan lupa belajar lagi ya!\")\n",
    "elif nilai >= 60:\n",
    "    print(\"Anda mendapatkan nilai C\")\n",
    "    print(\"Next time harus lebih bagus\")\n",
    "elif nilai >= 50:\n",
    "    print (\"Anda mendapatkan nilai D\")\n",
    "    print (\"Maaf, anda harus mengulang tahun depan\")\n",
    "else:\n",
    "    print (\"Anda mendapatkan nilai E\")\n",
    "    print (\"Mohon maaf anda harus mengulang tahun depan\")"
   ]
  },
  {
   "cell_type": "code",
   "execution_count": null,
   "id": "891a97b6",
   "metadata": {},
   "outputs": [],
   "source": [
    "tinggi = float(input(\"Berapakah tinggi anda \"))\n",
    "cm_atau_inci = input(\"Tingginya dalam cm atau inci? \")\n",
    "\n",
    "if cm_atau_inci.upper() == 'CM': \n",
    "    tinggi = tinggi*0.393701\n",
    "    print(\"Tinggi anda adalah \" + str(tinggi) + \" inci\")\n",
    "elif cm_atau_inci.upper() == 'INCI':\n",
    "    tinggi = tinggi/0.393701\n",
    "    print(f\"Tinggi anda adalah {tinggi} cm\")\n",
    "    "
   ]
  },
  {
   "cell_type": "code",
   "execution_count": null,
   "id": "d0970cb5",
   "metadata": {},
   "outputs": [],
   "source": [
    "#5.11 While Loop"
   ]
  },
  {
   "cell_type": "code",
   "execution_count": null,
   "id": "e2d92c65",
   "metadata": {},
   "outputs": [],
   "source": [
    "a = 0\n",
    "while a < 10:\n",
    "    print(\"Angka \" + str(a)+\" masih dibawah 10\")\n",
    "    a += 1"
   ]
  },
  {
   "cell_type": "code",
   "execution_count": null,
   "id": "5a470deb",
   "metadata": {},
   "outputs": [],
   "source": [
    "a = 0\n",
    "while a < 9:\n",
    "    print(a * 'o')\n",
    "    a += 1"
   ]
  }
 ],
 "metadata": {
  "kernelspec": {
   "display_name": "Python 3 (ipykernel)",
   "language": "python",
   "name": "python3"
  },
  "language_info": {
   "codemirror_mode": {
    "name": "ipython",
    "version": 3
   },
   "file_extension": ".py",
   "mimetype": "text/x-python",
   "name": "python",
   "nbconvert_exporter": "python",
   "pygments_lexer": "ipython3",
   "version": "3.9.7"
  }
 },
 "nbformat": 4,
 "nbformat_minor": 5
}
