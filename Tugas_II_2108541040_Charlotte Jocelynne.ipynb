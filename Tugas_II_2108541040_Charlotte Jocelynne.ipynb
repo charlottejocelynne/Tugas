{
 "cells": [
  {
   "cell_type": "markdown",
   "id": "294fa349",
   "metadata": {},
   "source": [
    "# 5.12 List di Python"
   ]
  },
  {
   "cell_type": "code",
   "execution_count": null,
   "id": "116f22dd",
   "metadata": {},
   "outputs": [],
   "source": [
    "hewan =['tikus', 'kijang', 'gajah', 'monyet']\n",
    "print(hewan)"
   ]
  },
  {
   "cell_type": "code",
   "execution_count": null,
   "id": "096fa5bd",
   "metadata": {},
   "outputs": [],
   "source": [
    "print(hewan[0])"
   ]
  },
  {
   "cell_type": "code",
   "execution_count": null,
   "id": "d8f7b7fe",
   "metadata": {},
   "outputs": [],
   "source": [
    "print(hewan[2])"
   ]
  },
  {
   "cell_type": "code",
   "execution_count": null,
   "id": "43421702",
   "metadata": {},
   "outputs": [],
   "source": [
    "print(hewan[-1])"
   ]
  },
  {
   "cell_type": "code",
   "execution_count": null,
   "id": "ed2219a5",
   "metadata": {},
   "outputs": [],
   "source": [
    "print(hewan[-2])"
   ]
  },
  {
   "cell_type": "code",
   "execution_count": null,
   "id": "28cce5b1",
   "metadata": {},
   "outputs": [],
   "source": [
    "hewan[0] = 'beruang'\n",
    "print(hewan)"
   ]
  },
  {
   "cell_type": "code",
   "execution_count": null,
   "id": "16e358b4",
   "metadata": {},
   "outputs": [],
   "source": [
    "print(hewan[0:3])"
   ]
  },
  {
   "cell_type": "code",
   "execution_count": null,
   "id": "65083c18",
   "metadata": {},
   "outputs": [],
   "source": [
    "# tidak merubah list\n",
    "print(hewan)"
   ]
  },
  {
   "cell_type": "markdown",
   "id": "71f27a30",
   "metadata": {},
   "source": [
    "# 5. 13 Metoda List"
   ]
  },
  {
   "cell_type": "code",
   "execution_count": null,
   "id": "3075873d",
   "metadata": {},
   "outputs": [],
   "source": [
    "nama = ['Charlotte', 'Jocelynne']\n",
    "nama.append('Tobing')\n",
    "print(nama)"
   ]
  },
  {
   "cell_type": "code",
   "execution_count": null,
   "id": "5e8c55d1",
   "metadata": {},
   "outputs": [],
   "source": [
    "nama.insert(0,'Cayot')\n",
    "print(nama)"
   ]
  },
  {
   "cell_type": "code",
   "execution_count": null,
   "id": "5eb62629",
   "metadata": {},
   "outputs": [],
   "source": [
    "nama.remove('Charlotte')\n",
    "print(nama)"
   ]
  },
  {
   "cell_type": "code",
   "execution_count": null,
   "id": "2cd2f1fc",
   "metadata": {},
   "outputs": [],
   "source": [
    "print('Cayot' in nama)"
   ]
  },
  {
   "cell_type": "code",
   "execution_count": null,
   "id": "05eafcba",
   "metadata": {},
   "outputs": [],
   "source": [
    "print('Charlotte' in nama)"
   ]
  },
  {
   "cell_type": "code",
   "execution_count": null,
   "id": "5129966b",
   "metadata": {},
   "outputs": [],
   "source": [
    "print(len(nama))"
   ]
  },
  {
   "cell_type": "markdown",
   "id": "37c6203b",
   "metadata": {},
   "source": [
    "# 5.14 For Loop"
   ]
  },
  {
   "cell_type": "code",
   "execution_count": null,
   "id": "b32d3301",
   "metadata": {},
   "outputs": [],
   "source": [
    "hewan = ['tikus', 'kijang', 'gajah', 'semut']\n",
    "for jenis in hewan:\n",
    "    print(jenis)"
   ]
  },
  {
   "cell_type": "code",
   "execution_count": null,
   "id": "563e8f55",
   "metadata": {},
   "outputs": [],
   "source": [
    "i = 0\n",
    "while i < len(hewan):\n",
    "    print(hewan[i])\n",
    "    i+=1"
   ]
  },
  {
   "cell_type": "markdown",
   "id": "56da9de0",
   "metadata": {},
   "source": [
    "# 5.15 Fungsi Range"
   ]
  },
  {
   "cell_type": "code",
   "execution_count": null,
   "id": "235e4021",
   "metadata": {},
   "outputs": [],
   "source": [
    "angka = range(6)\n",
    "print(angka)"
   ]
  },
  {
   "cell_type": "code",
   "execution_count": null,
   "id": "a218e145",
   "metadata": {},
   "outputs": [],
   "source": [
    "for isi in angka:\n",
    "    print(isi)"
   ]
  },
  {
   "cell_type": "code",
   "execution_count": null,
   "id": "a84f6763",
   "metadata": {},
   "outputs": [],
   "source": [
    "for isi in range(5,10):\n",
    "    print(isi)"
   ]
  },
  {
   "cell_type": "code",
   "execution_count": null,
   "id": "fe5ea194",
   "metadata": {},
   "outputs": [],
   "source": [
    "for isi in range(0,10,2):\n",
    "    print(isi)"
   ]
  },
  {
   "cell_type": "code",
   "execution_count": null,
   "id": "b3949dc6",
   "metadata": {},
   "outputs": [],
   "source": [
    "data = [1,2,3,4,5,6,5,4,3]\n",
    "terbesar = data[0]\n",
    "for i in range(len(data)):\n",
    "    if data[i] > terbesar:\n",
    "        terbesar = data[i]\n",
    "print(terbesar)"
   ]
  },
  {
   "cell_type": "code",
   "execution_count": null,
   "id": "57e243f4",
   "metadata": {},
   "outputs": [],
   "source": [
    "data = [1,2,3,4,5,4,3,2,1]\n",
    "terbessar = data[0]\n",
    "for angka in data:\n",
    "    if angka > terbesar:\n",
    "        terbesar = data[i]\n",
    "print(terbesar)"
   ]
  },
  {
   "cell_type": "code",
   "execution_count": null,
   "id": "edc4f4cc",
   "metadata": {},
   "outputs": [],
   "source": [
    "angka = [2,5,4,6,8,7,1,2,3,9]\n",
    "angka_unik = []\n",
    "for anggota in angka:\n",
    "    if anggota not in angka_unik:\n",
    "        angka_unik.append(anggota)\n",
    "print(angka_unik)"
   ]
  },
  {
   "cell_type": "markdown",
   "id": "56f1f34c",
   "metadata": {},
   "source": [
    "# 5. 16 List 2 Dimensi"
   ]
  },
  {
   "cell_type": "code",
   "execution_count": null,
   "id": "b955d1a5",
   "metadata": {},
   "outputs": [],
   "source": [
    "matrik = [\n",
    "    [1,2,3,4],\n",
    "    [5,6,7,8],\n",
    "    [9,10,11,12],\n",
    "    [13,14,15,16]\n",
    "]\n",
    "print(matrik)"
   ]
  },
  {
   "cell_type": "code",
   "execution_count": null,
   "id": "ad7c799d",
   "metadata": {},
   "outputs": [],
   "source": [
    "matrik[1]"
   ]
  },
  {
   "cell_type": "code",
   "execution_count": null,
   "id": "0fbe11f6",
   "metadata": {},
   "outputs": [],
   "source": [
    "matrik[1][2]"
   ]
  },
  {
   "cell_type": "code",
   "execution_count": null,
   "id": "1bb4a3e6",
   "metadata": {},
   "outputs": [],
   "source": [
    "matrik[1][2]=100\n",
    "print(matrik[1][2])"
   ]
  },
  {
   "cell_type": "code",
   "execution_count": null,
   "id": "94844087",
   "metadata": {},
   "outputs": [],
   "source": [
    "matrik"
   ]
  },
  {
   "cell_type": "code",
   "execution_count": null,
   "id": "5dcda824",
   "metadata": {},
   "outputs": [],
   "source": [
    "for baris in matrik:\n",
    "    print(baris)\n",
    "    for kolom in baris:\n",
    "        print(kolom)"
   ]
  },
  {
   "cell_type": "markdown",
   "id": "d9e83bc4",
   "metadata": {},
   "source": [
    "# 5.17 Tuples"
   ]
  },
  {
   "cell_type": "code",
   "execution_count": null,
   "id": "cfc8e7d1",
   "metadata": {},
   "outputs": [],
   "source": [
    "angka = (1,3,3,4,5,6)"
   ]
  },
  {
   "cell_type": "code",
   "execution_count": null,
   "id": "dd98ae5d",
   "metadata": {},
   "outputs": [],
   "source": [
    "print(angka[0])"
   ]
  },
  {
   "cell_type": "code",
   "execution_count": null,
   "id": "e9aa0adf",
   "metadata": {},
   "outputs": [],
   "source": [
    "print(angka[0:3])"
   ]
  },
  {
   "cell_type": "code",
   "execution_count": null,
   "id": "50792862",
   "metadata": {},
   "outputs": [],
   "source": [
    "for isi in angka[0:3]:\n",
    "    print(isi)"
   ]
  },
  {
   "cell_type": "code",
   "execution_count": null,
   "id": "b371c4f0",
   "metadata": {},
   "outputs": [],
   "source": [
    "angka[0] = 10"
   ]
  },
  {
   "cell_type": "code",
   "execution_count": null,
   "id": "ad47824f",
   "metadata": {},
   "outputs": [],
   "source": [
    "angka.append(10)"
   ]
  },
  {
   "cell_type": "code",
   "execution_count": null,
   "id": "97527e2e",
   "metadata": {},
   "outputs": [],
   "source": [
    "angka.remove(5)"
   ]
  },
  {
   "cell_type": "code",
   "execution_count": null,
   "id": "fc49218b",
   "metadata": {},
   "outputs": [],
   "source": [
    "angka.count(1)"
   ]
  },
  {
   "cell_type": "code",
   "execution_count": null,
   "id": "f71418d8",
   "metadata": {},
   "outputs": [],
   "source": [
    "angka.index(3)"
   ]
  },
  {
   "cell_type": "markdown",
   "id": "c5388dda",
   "metadata": {},
   "source": [
    "# 5.18 Dictionaries"
   ]
  },
  {
   "cell_type": "code",
   "execution_count": null,
   "id": "7f1c9b8e",
   "metadata": {},
   "outputs": [],
   "source": [
    "data_orang = {\n",
    "    \"nama\" : \"Charlotte Jocelynne\",\n",
    "    \"umur\" : 18,\n",
    "    \"apakah_kuliah\" : True\n",
    "}"
   ]
  },
  {
   "cell_type": "code",
   "execution_count": null,
   "id": "67797310",
   "metadata": {},
   "outputs": [],
   "source": [
    "print(data_orang['nama'])"
   ]
  },
  {
   "cell_type": "code",
   "execution_count": null,
   "id": "4a5c45af",
   "metadata": {},
   "outputs": [],
   "source": [
    "print(data_orang['Nama'])"
   ]
  },
  {
   "cell_type": "code",
   "execution_count": null,
   "id": "aa474486",
   "metadata": {},
   "outputs": [],
   "source": [
    "print(data_orang.get('nama'))"
   ]
  },
  {
   "cell_type": "code",
   "execution_count": null,
   "id": "1c57fcf1",
   "metadata": {},
   "outputs": [],
   "source": [
    "print(data_orang.get('Nama'))"
   ]
  },
  {
   "cell_type": "code",
   "execution_count": null,
   "id": "9bf1a72d",
   "metadata": {},
   "outputs": [],
   "source": [
    "print(data_orang.get('tanggal_lahir'))"
   ]
  },
  {
   "cell_type": "code",
   "execution_count": null,
   "id": "ff1b2bd3",
   "metadata": {},
   "outputs": [],
   "source": [
    "print(data_orang.get('tanggal_lahir', '10-10-2003'))"
   ]
  },
  {
   "cell_type": "code",
   "execution_count": null,
   "id": "40ae5674",
   "metadata": {},
   "outputs": [],
   "source": [
    "print(data_orang)"
   ]
  },
  {
   "cell_type": "code",
   "execution_count": null,
   "id": "2c8c5f4a",
   "metadata": {},
   "outputs": [],
   "source": [
    "print(data_orang[\"tanggal_lahir\"])"
   ]
  },
  {
   "cell_type": "code",
   "execution_count": null,
   "id": "7e0d0e6e",
   "metadata": {},
   "outputs": [],
   "source": [
    "data_orang['HP'] = '081931173775'"
   ]
  },
  {
   "cell_type": "code",
   "execution_count": null,
   "id": "ca5b78d5",
   "metadata": {},
   "outputs": [],
   "source": [
    "print(data_orang[\"HP\"])"
   ]
  },
  {
   "cell_type": "code",
   "execution_count": null,
   "id": "2db89074",
   "metadata": {},
   "outputs": [],
   "source": [
    "print(data_orang)"
   ]
  },
  {
   "cell_type": "code",
   "execution_count": null,
   "id": "adad0211",
   "metadata": {},
   "outputs": [],
   "source": [
    "angka = {\n",
    "    \"0\" : \"nol\",\n",
    "    \"1\" : \"satu\",\n",
    "    \"2\" : \"dua\",\n",
    "    \"3\" : \"tiga\",\n",
    "    \"4\" : \"empat\",\n",
    "    \"5\" : \"lima\", \n",
    "    \"6\" : \"enam\", \n",
    "    \"7\" : \"tujuh\",\n",
    "    \"8\" : \"delapan\", \n",
    "    \"9\" : \"sembilan\",\n",
    "}"
   ]
  },
  {
   "cell_type": "code",
   "execution_count": null,
   "id": "5f58fe56",
   "metadata": {},
   "outputs": [],
   "source": [
    "nomor_hp = input(\"isi nomor hp anda\")\n",
    "nomor_angka = \"\"\n",
    "for isi in nomor_hp:\n",
    "    nomor_angka+=angka.get(isi) + \" \"\n",
    "print(nomor_angka)"
   ]
  },
  {
   "cell_type": "markdown",
   "id": "1fa36703",
   "metadata": {},
   "source": [
    "# 5.19 Fungsi dalam Python"
   ]
  },
  {
   "cell_type": "code",
   "execution_count": null,
   "id": "1c75fbb8",
   "metadata": {},
   "outputs": [],
   "source": [
    "def full_name(first_name,last_name):\n",
    "    print(f\"Nama lengkap : {first_name} {last_name}\")"
   ]
  },
  {
   "cell_type": "code",
   "execution_count": null,
   "id": "a4c87071",
   "metadata": {},
   "outputs": [],
   "source": [
    "first_name= input (\"Nama depan kamu adalah \")\n",
    "last_name = input(\"Nama belakang kamu adalah \")\n",
    "full_name(first_name,last_name)"
   ]
  },
  {
   "cell_type": "markdown",
   "id": "78a8d906",
   "metadata": {},
   "source": [
    "# 5.19.1 Tugas Fungsi pada Python"
   ]
  },
  {
   "cell_type": "code",
   "execution_count": null,
   "id": "edf41ab6",
   "metadata": {},
   "outputs": [],
   "source": [
    "def waktu_sampai(jarak,kecepatan):\n",
    "    waktu = jarak/kecepatan\n",
    "    print(waktu)"
   ]
  },
  {
   "cell_type": "code",
   "execution_count": null,
   "id": "a5273591",
   "metadata": {},
   "outputs": [],
   "source": [
    "def waktu_tempuh(jarak,kecepatan):\n",
    "    waktu = jarak/kecepatan\n",
    "    return waktu"
   ]
  },
  {
   "cell_type": "code",
   "execution_count": null,
   "id": "87ac0cf9",
   "metadata": {},
   "outputs": [],
   "source": [
    "waktu_sampai(60,20)"
   ]
  },
  {
   "cell_type": "code",
   "execution_count": null,
   "id": "0cf316b0",
   "metadata": {},
   "outputs": [],
   "source": [
    "waktu_tempuh(60,20)"
   ]
  },
  {
   "cell_type": "code",
   "execution_count": null,
   "id": "026cafb0",
   "metadata": {},
   "outputs": [],
   "source": [
    "a = waktu_sampai(60,20)\n",
    "print(a)"
   ]
  },
  {
   "cell_type": "code",
   "execution_count": null,
   "id": "1edf0e1f",
   "metadata": {},
   "outputs": [],
   "source": [
    "b = waktu_sampai(60,20)\n",
    "print(b)"
   ]
  },
  {
   "cell_type": "code",
   "execution_count": null,
   "id": "261a336f",
   "metadata": {},
   "outputs": [],
   "source": [
    "import numpy as np"
   ]
  },
  {
   "cell_type": "code",
   "execution_count": null,
   "id": "bcda3f1e",
   "metadata": {},
   "outputs": [],
   "source": [
    "def luas_segitiga(alas,tinggi):\n",
    "    luas = (1/2)*alas*tinggi\n",
    "    return luas\n",
    "def luas_lingkaran(jari_jari):\n",
    "    luas = np.pi*(jari_jari**2)\n",
    "    return luas\n",
    "def luas_persegi_panjang(panjang,lebar):\n",
    "    luas = panjang*lebar\n",
    "    return luas"
   ]
  },
  {
   "cell_type": "code",
   "execution_count": null,
   "id": "8c2dbe42",
   "metadata": {},
   "outputs": [],
   "source": [
    "jenis_bidang = input(\"tulis jenis bidangnya\")\n",
    "if jenis_bidang.upper() == 'SEGITIGA' :\n",
    "    alas = float(input('Berapakah panjang alasnya? '))\n",
    "    tinggi = float(input('Berapakah tingginya '))\n",
    "    luas = luas_segitiga(alas,tinggi)\n",
    "    print(f\"Luas {jenis_bidang} adalah {luas}\")\n",
    "elif jenis_bidang.upper() == 'LINGKARAN' :\n",
    "    jari_jari = float(input('Berapakah panjang jari jarinya?'))\n",
    "    luas = luas_lingkaran(jari_jari)\n",
    "    print(f\"luas{jenis_bidang} adalah {luas}\")\n",
    "elif (jenis_bidang.upper() == 'PERSEGI') or (jenis_bidang.upper() == 'Bujur Sangkar'):\n",
    "    sisi = float(input('Berapakah panjang sisinya? '))\n",
    "    luas = luas_persegi(sisi)\n",
    "    print(f\"luas {jenis_bidang} adalah {luas}\")\n",
    "elif jenis_bidang.upper() == \"PERSEGI PANJANG\":\n",
    "    panjang = float(input('Berapakah panjangnya? '))\n",
    "    lebar = float(input('Berapakah lebarnya? '))\n",
    "    luas = luas_persegi_panjang(panjang,lebar)\n",
    "    print(f\"luas {jenis_bidang} adalah {luas}\")\n",
    "else:\n",
    "    print(f\"Maaf bidang {jenis_bidang} yang anda masukkan tidak ada.\")\n",
    "    print(\"Pilihan cuma Segitiga, Lingkaran, Persegi dan Persegi Panjang. \")\n",
    "    print('Terima Kasih')"
   ]
  },
  {
   "cell_type": "code",
   "execution_count": null,
   "id": "0b71ae55",
   "metadata": {},
   "outputs": [],
   "source": []
  }
 ],
 "metadata": {
  "kernelspec": {
   "display_name": "Python 3 (ipykernel)",
   "language": "python",
   "name": "python3"
  },
  "language_info": {
   "codemirror_mode": {
    "name": "ipython",
    "version": 3
   },
   "file_extension": ".py",
   "mimetype": "text/x-python",
   "name": "python",
   "nbconvert_exporter": "python",
   "pygments_lexer": "ipython3",
   "version": "3.9.7"
  }
 },
 "nbformat": 4,
 "nbformat_minor": 5
}
